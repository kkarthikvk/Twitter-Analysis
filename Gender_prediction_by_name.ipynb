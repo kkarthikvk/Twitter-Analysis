{
 "cells": [
  {
   "cell_type": "code",
   "execution_count": 18,
   "metadata": {},
   "outputs": [],
   "source": [
    "import pandas as pd"
   ]
  },
  {
   "cell_type": "code",
   "execution_count": 19,
   "metadata": {},
   "outputs": [],
   "source": [
    "data = pd.read_csv('C:/Users/user/Desktop/names.csv',encoding='unicode_escape',header=None)"
   ]
  },
  {
   "cell_type": "code",
   "execution_count": 20,
   "metadata": {},
   "outputs": [
    {
     "data": {
      "text/html": [
       "<div>\n",
       "<style scoped>\n",
       "    .dataframe tbody tr th:only-of-type {\n",
       "        vertical-align: middle;\n",
       "    }\n",
       "\n",
       "    .dataframe tbody tr th {\n",
       "        vertical-align: top;\n",
       "    }\n",
       "\n",
       "    .dataframe thead th {\n",
       "        text-align: right;\n",
       "    }\n",
       "</style>\n",
       "<table border=\"1\" class=\"dataframe\">\n",
       "  <thead>\n",
       "    <tr style=\"text-align: right;\">\n",
       "      <th></th>\n",
       "      <th>0</th>\n",
       "      <th>1</th>\n",
       "      <th>2</th>\n",
       "    </tr>\n",
       "  </thead>\n",
       "  <tbody>\n",
       "    <tr>\n",
       "      <td>0</td>\n",
       "      <td>1. Liam</td>\n",
       "      <td>NaN</td>\n",
       "      <td>NaN</td>\n",
       "    </tr>\n",
       "    <tr>\n",
       "      <td>1</td>\n",
       "      <td>2. Noah</td>\n",
       "      <td>NaN</td>\n",
       "      <td>NaN</td>\n",
       "    </tr>\n",
       "    <tr>\n",
       "      <td>2</td>\n",
       "      <td>3. William</td>\n",
       "      <td>NaN</td>\n",
       "      <td>NaN</td>\n",
       "    </tr>\n",
       "    <tr>\n",
       "      <td>3</td>\n",
       "      <td>4. James</td>\n",
       "      <td>NaN</td>\n",
       "      <td>NaN</td>\n",
       "    </tr>\n",
       "    <tr>\n",
       "      <td>4</td>\n",
       "      <td>5. Oliver</td>\n",
       "      <td>NaN</td>\n",
       "      <td>NaN</td>\n",
       "    </tr>\n",
       "  </tbody>\n",
       "</table>\n",
       "</div>"
      ],
      "text/plain": [
       "             0   1   2\n",
       "0     1. Liam  NaN NaN\n",
       "1     2. Noah  NaN NaN\n",
       "2  3. William  NaN NaN\n",
       "3    4. James  NaN NaN\n",
       "4   5. Oliver  NaN NaN"
      ]
     },
     "execution_count": 20,
     "metadata": {},
     "output_type": "execute_result"
    }
   ],
   "source": [
    "data.head()"
   ]
  },
  {
   "cell_type": "code",
   "execution_count": 21,
   "metadata": {},
   "outputs": [
    {
     "name": "stdout",
     "output_type": "stream",
     "text": [
      "             0  1   2\n",
      "0     1. Liam   M NaN\n",
      "1     2. Noah   M NaN\n",
      "2  3. William   M NaN\n",
      "3    4. James   M NaN\n",
      "4   5. Oliver   M NaN\n",
      "            0  1   2\n",
      "1001  Alessia  F NaN\n",
      "1002    Ariya  F NaN\n",
      "1003      Eve  F NaN\n",
      "1004   Inaaya  F NaN\n",
      "1005      Sky  F NaN\n"
     ]
    },
    {
     "name": "stderr",
     "output_type": "stream",
     "text": [
      "C:\\Users\\user\\Anaconda3\\lib\\site-packages\\ipykernel_launcher.py:3: SettingWithCopyWarning: \n",
      "A value is trying to be set on a copy of a slice from a DataFrame\n",
      "\n",
      "See the caveats in the documentation: http://pandas.pydata.org/pandas-docs/stable/user_guide/indexing.html#returning-a-view-versus-a-copy\n",
      "  This is separate from the ipykernel package so we can avoid doing imports until\n",
      "C:\\Users\\user\\Anaconda3\\lib\\site-packages\\pandas\\core\\indexing.py:205: SettingWithCopyWarning: \n",
      "A value is trying to be set on a copy of a slice from a DataFrame\n",
      "\n",
      "See the caveats in the documentation: http://pandas.pydata.org/pandas-docs/stable/user_guide/indexing.html#returning-a-view-versus-a-copy\n",
      "  self._setitem_with_indexer(indexer, value)\n",
      "C:\\Users\\user\\Anaconda3\\lib\\site-packages\\ipykernel_launcher.py:5: SettingWithCopyWarning: \n",
      "A value is trying to be set on a copy of a slice from a DataFrame\n",
      "\n",
      "See the caveats in the documentation: http://pandas.pydata.org/pandas-docs/stable/user_guide/indexing.html#returning-a-view-versus-a-copy\n",
      "  \"\"\"\n"
     ]
    }
   ],
   "source": [
    "for i in range(len(data)):\n",
    "    if i < 526:\n",
    "        data[1][i] = 'M'\n",
    "    else:\n",
    "        data[1][i] = 'F'\n",
    "print(data.head())\n",
    "print(data.tail())"
   ]
  },
  {
   "cell_type": "code",
   "execution_count": 22,
   "metadata": {},
   "outputs": [
    {
     "data": {
      "text/plain": [
       "['Liam\\xa0',\n",
       " 'Noah\\xa0',\n",
       " 'William\\xa0',\n",
       " 'James\\xa0',\n",
       " 'Oliver\\xa0',\n",
       " 'Benjamin\\xa0',\n",
       " 'Elijah\\xa0',\n",
       " 'Lucas\\xa0',\n",
       " 'Mason\\xa0',\n",
       " 'Logan\\xa0',\n",
       " 'Alexander\\xa0',\n",
       " 'Ethan\\xa0',\n",
       " 'Jacob\\xa0',\n",
       " 'Michael\\xa0',\n",
       " 'Daniel\\xa0',\n",
       " 'Henry\\xa0',\n",
       " 'Jackson\\xa0',\n",
       " 'Sebastian\\xa0',\n",
       " 'Aiden\\xa0',\n",
       " 'Matthew\\xa0',\n",
       " 'Samuel\\xa0',\n",
       " 'David\\xa0',\n",
       " 'Joseph\\xa0',\n",
       " 'Carter\\xa0',\n",
       " 'Owen\\xa0',\n",
       " 'Wyatt\\xa0',\n",
       " 'John\\xa0',\n",
       " 'Jack\\xa0',\n",
       " 'Luke\\xa0',\n",
       " 'Jayden\\xa0',\n",
       " 'Dylan\\xa0',\n",
       " 'Grayson\\xa0',\n",
       " 'Levi\\xa0',\n",
       " 'Isaac\\xa0',\n",
       " 'Gabriel\\xa0',\n",
       " 'Julian\\xa0',\n",
       " 'Mateo\\xa0',\n",
       " 'Anthony\\xa0',\n",
       " 'Jaxon\\xa0',\n",
       " 'Lincoln\\xa0',\n",
       " 'Joshua\\xa0',\n",
       " 'Christopher\\xa0',\n",
       " 'Andrew\\xa0',\n",
       " 'Theodore\\xa0',\n",
       " 'Caleb\\xa0',\n",
       " 'Ryan\\xa0',\n",
       " 'Asher\\xa0',\n",
       " 'Nathan\\xa0',\n",
       " 'Thomas\\xa0',\n",
       " 'Leo\\xa0']"
      ]
     },
     "execution_count": 22,
     "metadata": {},
     "output_type": "execute_result"
    }
   ],
   "source": [
    "b = []\n",
    "for i,nm in enumerate(data[0]):\n",
    "    if i < 525:\n",
    "        w = nm[3:]\n",
    "        if i > 8:\n",
    "            w = nm[4:]\n",
    "        if i > 98:\n",
    "            w = nm[5:]\n",
    "        b.append(w)\n",
    "b[:50]\n"
   ]
  },
  {
   "cell_type": "code",
   "execution_count": 23,
   "metadata": {},
   "outputs": [
    {
     "name": "stderr",
     "output_type": "stream",
     "text": [
      "C:\\Users\\user\\Anaconda3\\lib\\site-packages\\ipykernel_launcher.py:1: SettingWithCopyWarning: \n",
      "A value is trying to be set on a copy of a slice from a DataFrame\n",
      "\n",
      "See the caveats in the documentation: http://pandas.pydata.org/pandas-docs/stable/user_guide/indexing.html#returning-a-view-versus-a-copy\n",
      "  \"\"\"Entry point for launching an IPython kernel.\n"
     ]
    }
   ],
   "source": [
    "data[0][:525] = b"
   ]
  },
  {
   "cell_type": "code",
   "execution_count": 24,
   "metadata": {},
   "outputs": [],
   "source": [
    "data.drop(2,axis=1,inplace=True)"
   ]
  },
  {
   "cell_type": "code",
   "execution_count": 25,
   "metadata": {
    "scrolled": false
   },
   "outputs": [
    {
     "data": {
      "text/html": [
       "<div>\n",
       "<style scoped>\n",
       "    .dataframe tbody tr th:only-of-type {\n",
       "        vertical-align: middle;\n",
       "    }\n",
       "\n",
       "    .dataframe tbody tr th {\n",
       "        vertical-align: top;\n",
       "    }\n",
       "\n",
       "    .dataframe thead th {\n",
       "        text-align: right;\n",
       "    }\n",
       "</style>\n",
       "<table border=\"1\" class=\"dataframe\">\n",
       "  <thead>\n",
       "    <tr style=\"text-align: right;\">\n",
       "      <th></th>\n",
       "      <th>0</th>\n",
       "      <th>1</th>\n",
       "    </tr>\n",
       "  </thead>\n",
       "  <tbody>\n",
       "    <tr>\n",
       "      <td>0</td>\n",
       "      <td>Liam</td>\n",
       "      <td>M</td>\n",
       "    </tr>\n",
       "    <tr>\n",
       "      <td>1</td>\n",
       "      <td>Noah</td>\n",
       "      <td>M</td>\n",
       "    </tr>\n",
       "    <tr>\n",
       "      <td>2</td>\n",
       "      <td>William</td>\n",
       "      <td>M</td>\n",
       "    </tr>\n",
       "    <tr>\n",
       "      <td>3</td>\n",
       "      <td>James</td>\n",
       "      <td>M</td>\n",
       "    </tr>\n",
       "    <tr>\n",
       "      <td>4</td>\n",
       "      <td>Oliver</td>\n",
       "      <td>M</td>\n",
       "    </tr>\n",
       "  </tbody>\n",
       "</table>\n",
       "</div>"
      ],
      "text/plain": [
       "          0  1\n",
       "0     Liam   M\n",
       "1     Noah   M\n",
       "2  William   M\n",
       "3    James   M\n",
       "4   Oliver   M"
      ]
     },
     "execution_count": 25,
     "metadata": {},
     "output_type": "execute_result"
    }
   ],
   "source": [
    "data.head()"
   ]
  },
  {
   "cell_type": "code",
   "execution_count": 26,
   "metadata": {},
   "outputs": [],
   "source": [
    "df = data"
   ]
  },
  {
   "cell_type": "code",
   "execution_count": 27,
   "metadata": {},
   "outputs": [],
   "source": [
    "df[0][565] = 'Priya'"
   ]
  },
  {
   "cell_type": "code",
   "execution_count": 28,
   "metadata": {},
   "outputs": [],
   "source": [
    "def rmst(text):\n",
    "    b=[]\n",
    "    for i in text:\n",
    "        count=0\n",
    "        w=[]\n",
    "        wd = ''\n",
    "        wr = ''\n",
    "        ws = len(i)\n",
    "        for j in i:\n",
    "            j = j.lower()\n",
    "            count = count + 1\n",
    "            if count < 3:\n",
    "                wd = wd + j\n",
    "                continue\n",
    "            if count > ws-3:\n",
    "                wr = wr + j\n",
    "                wr=wr[:2]\n",
    "                continue\n",
    "        w.append(wd)    \n",
    "        w.append(wr)\n",
    "        b.append(w)\n",
    "    return b\n",
    "df['text'] = rmst(df[0])\n",
    "\n"
   ]
  },
  {
   "cell_type": "code",
   "execution_count": 29,
   "metadata": {},
   "outputs": [
    {
     "data": {
      "text/html": [
       "<div>\n",
       "<style scoped>\n",
       "    .dataframe tbody tr th:only-of-type {\n",
       "        vertical-align: middle;\n",
       "    }\n",
       "\n",
       "    .dataframe tbody tr th {\n",
       "        vertical-align: top;\n",
       "    }\n",
       "\n",
       "    .dataframe thead th {\n",
       "        text-align: right;\n",
       "    }\n",
       "</style>\n",
       "<table border=\"1\" class=\"dataframe\">\n",
       "  <thead>\n",
       "    <tr style=\"text-align: right;\">\n",
       "      <th></th>\n",
       "      <th>0</th>\n",
       "      <th>1</th>\n",
       "      <th>text</th>\n",
       "    </tr>\n",
       "  </thead>\n",
       "  <tbody>\n",
       "    <tr>\n",
       "      <td>0</td>\n",
       "      <td>Liam</td>\n",
       "      <td>M</td>\n",
       "      <td>[li, am]</td>\n",
       "    </tr>\n",
       "    <tr>\n",
       "      <td>1</td>\n",
       "      <td>Noah</td>\n",
       "      <td>M</td>\n",
       "      <td>[no, ah]</td>\n",
       "    </tr>\n",
       "    <tr>\n",
       "      <td>2</td>\n",
       "      <td>William</td>\n",
       "      <td>M</td>\n",
       "      <td>[wi, am]</td>\n",
       "    </tr>\n",
       "    <tr>\n",
       "      <td>3</td>\n",
       "      <td>James</td>\n",
       "      <td>M</td>\n",
       "      <td>[ja, es]</td>\n",
       "    </tr>\n",
       "    <tr>\n",
       "      <td>4</td>\n",
       "      <td>Oliver</td>\n",
       "      <td>M</td>\n",
       "      <td>[ol, er]</td>\n",
       "    </tr>\n",
       "  </tbody>\n",
       "</table>\n",
       "</div>"
      ],
      "text/plain": [
       "          0  1      text\n",
       "0     Liam   M  [li, am]\n",
       "1     Noah   M  [no, ah]\n",
       "2  William   M  [wi, am]\n",
       "3    James   M  [ja, es]\n",
       "4   Oliver   M  [ol, er]"
      ]
     },
     "execution_count": 29,
     "metadata": {},
     "output_type": "execute_result"
    }
   ],
   "source": [
    "df.head()"
   ]
  },
  {
   "cell_type": "code",
   "execution_count": 30,
   "metadata": {},
   "outputs": [],
   "source": [
    "dic = {'M':0,'F':1}\n"
   ]
  },
  {
   "cell_type": "code",
   "execution_count": 31,
   "metadata": {},
   "outputs": [],
   "source": [
    "df[1] = df[1].map(dic)\n",
    "df.drop(0,axis=1,inplace=True)"
   ]
  },
  {
   "cell_type": "code",
   "execution_count": 32,
   "metadata": {
    "scrolled": true
   },
   "outputs": [
    {
     "data": {
      "text/html": [
       "<div>\n",
       "<style scoped>\n",
       "    .dataframe tbody tr th:only-of-type {\n",
       "        vertical-align: middle;\n",
       "    }\n",
       "\n",
       "    .dataframe tbody tr th {\n",
       "        vertical-align: top;\n",
       "    }\n",
       "\n",
       "    .dataframe thead th {\n",
       "        text-align: right;\n",
       "    }\n",
       "</style>\n",
       "<table border=\"1\" class=\"dataframe\">\n",
       "  <thead>\n",
       "    <tr style=\"text-align: right;\">\n",
       "      <th></th>\n",
       "      <th>1</th>\n",
       "      <th>text</th>\n",
       "    </tr>\n",
       "  </thead>\n",
       "  <tbody>\n",
       "    <tr>\n",
       "      <td>0</td>\n",
       "      <td>0</td>\n",
       "      <td>[li, am]</td>\n",
       "    </tr>\n",
       "    <tr>\n",
       "      <td>1</td>\n",
       "      <td>0</td>\n",
       "      <td>[no, ah]</td>\n",
       "    </tr>\n",
       "    <tr>\n",
       "      <td>2</td>\n",
       "      <td>0</td>\n",
       "      <td>[wi, am]</td>\n",
       "    </tr>\n",
       "    <tr>\n",
       "      <td>3</td>\n",
       "      <td>0</td>\n",
       "      <td>[ja, es]</td>\n",
       "    </tr>\n",
       "    <tr>\n",
       "      <td>4</td>\n",
       "      <td>0</td>\n",
       "      <td>[ol, er]</td>\n",
       "    </tr>\n",
       "  </tbody>\n",
       "</table>\n",
       "</div>"
      ],
      "text/plain": [
       "   1      text\n",
       "0  0  [li, am]\n",
       "1  0  [no, ah]\n",
       "2  0  [wi, am]\n",
       "3  0  [ja, es]\n",
       "4  0  [ol, er]"
      ]
     },
     "execution_count": 32,
     "metadata": {},
     "output_type": "execute_result"
    }
   ],
   "source": [
    "df.head()"
   ]
  },
  {
   "cell_type": "code",
   "execution_count": 33,
   "metadata": {},
   "outputs": [],
   "source": [
    "import re \n",
    "comment_words = ' '\n",
    "for i in df['text']: \n",
    "    for words in i:\n",
    "        comment_words = comment_words + words + ',' \n",
    "w = re.split(',',comment_words)\n",
    "import numpy as np\n",
    "w = np.array(w)"
   ]
  },
  {
   "cell_type": "code",
   "execution_count": 34,
   "metadata": {},
   "outputs": [
    {
     "name": "stdout",
     "output_type": "stream",
     "text": [
      "['', ' li', 'a', 'aa', 'ab', 'ac', 'ad', 'ae', 'ah', 'ai', 'ak', 'al', 'am', 'an', 'ap', 'ar', 'as', 'at', 'au', 'av', 'ax', 'ay', 'az', 'a\\xa0', 'ba', 'be', 'bi', 'bl', 'bo', 'br', 'by', 'ca', 'cc', 'ce', 'ch', 'ci', 'ck', 'cl', 'co', 'cr', 'cy', 'da', 'de', 'di', 'do', 'dr', 'du', 'dy', 'e', 'ea', 'eb', 'ed', 'ek', 'el', 'em', 'en', 'eo', 'er', 'es', 'et', 'ev', 'ew', 'ex', 'ey', 'ez', 'e\\xa0', 'fa', 'fe', 'fi', 'fr', 'ga', 'ge', 'gi', 'go', 'gr', 'gu', 'ha', 'he', 'hi', 'hn', 'ho', 'hr', 'hu', 'hy', 'ia', 'ib', 'ic', 'id', 'ie', 'ig', 'ik', 'il', 'im', 'in', 'io', 'ip', 'ir', 'is', 'it', 'iv', 'ix', 'iy', 'iz', 'i\\xa0', 'ja', 'je', 'jh', 'jo', 'ju', 'ka', 'ke', 'kh', 'ki', 'kn', 'ko', 'ks', 'ky', 'la', 'ld', 'le', 'li', 'll', 'lm', 'ln', 'lo', 'lt', 'lu', 'ly', 'ma', 'mc', 'me', 'mi', 'mm', 'mo', 'mu', 'my', 'na', 'nc', 'nd', 'ne', 'ng', 'ni', 'nk', 'nn', 'no', 'nt', 'nu', 'nv', 'ny', 'n\\xa0', 'oa', 'ob', 'oc', 'od', 'ok', 'ol', 'om', 'on', 'op', 'or', 'os', 'ot', 'ow', 'ox', 'oy', 'o\\xa0', 'pa', 'pe', 'ph', 'pi', 'po', 'pp', 'pr', 'qu', 'r', 'ra', 'rd', 're', 'rh', 'ri', 'rk', 'rl', 'ro', 'rr', 'rt', 'ru', 'ry', 'sa', 'sc', 'se', 'sh', 'si', 'sk', 'sl', 'so', 'sp', 'ss', 'st', 'su', 'sy', 'ta', 'te', 'th', 'ti', 'tl', 'to', 'tr', 'tt', 'tu', 'ty', 'ua', 'ue', 'ul', 'um', 'un', 'ur', 'us', 'uz', 'va', 've', 'vi', 'w', 'wa', 'we', 'wi', 'wn', 'wy', 'xa', 'xi', 'x\\xa0', 'y', 'ya', 'ye', 'yl', 'yn', 'ys', 'y\\xa0', 'za', 'ze', 'zi', 'zo', 'zu', 'ë']\n"
     ]
    }
   ],
   "source": [
    "z = np.unique(w)\n",
    "z = list(z)\n",
    "print(z)"
   ]
  },
  {
   "cell_type": "code",
   "execution_count": 35,
   "metadata": {},
   "outputs": [],
   "source": [
    "for i in range(len(z)):\n",
    "    df[z[i]] = 0"
   ]
  },
  {
   "cell_type": "code",
   "execution_count": 36,
   "metadata": {
    "scrolled": true
   },
   "outputs": [
    {
     "data": {
      "text/html": [
       "<div>\n",
       "<style scoped>\n",
       "    .dataframe tbody tr th:only-of-type {\n",
       "        vertical-align: middle;\n",
       "    }\n",
       "\n",
       "    .dataframe tbody tr th {\n",
       "        vertical-align: top;\n",
       "    }\n",
       "\n",
       "    .dataframe thead th {\n",
       "        text-align: right;\n",
       "    }\n",
       "</style>\n",
       "<table border=\"1\" class=\"dataframe\">\n",
       "  <thead>\n",
       "    <tr style=\"text-align: right;\">\n",
       "      <th></th>\n",
       "      <th>1</th>\n",
       "      <th>text</th>\n",
       "      <th></th>\n",
       "      <th>li</th>\n",
       "      <th>a</th>\n",
       "      <th>aa</th>\n",
       "      <th>ab</th>\n",
       "      <th>ac</th>\n",
       "      <th>ad</th>\n",
       "      <th>ae</th>\n",
       "      <th>...</th>\n",
       "      <th>yl</th>\n",
       "      <th>yn</th>\n",
       "      <th>ys</th>\n",
       "      <th>y</th>\n",
       "      <th>za</th>\n",
       "      <th>ze</th>\n",
       "      <th>zi</th>\n",
       "      <th>zo</th>\n",
       "      <th>zu</th>\n",
       "      <th>ë</th>\n",
       "    </tr>\n",
       "  </thead>\n",
       "  <tbody>\n",
       "    <tr>\n",
       "      <td>0</td>\n",
       "      <td>0</td>\n",
       "      <td>[li, am]</td>\n",
       "      <td>0</td>\n",
       "      <td>0</td>\n",
       "      <td>0</td>\n",
       "      <td>0</td>\n",
       "      <td>0</td>\n",
       "      <td>0</td>\n",
       "      <td>0</td>\n",
       "      <td>0</td>\n",
       "      <td>...</td>\n",
       "      <td>0</td>\n",
       "      <td>0</td>\n",
       "      <td>0</td>\n",
       "      <td>0</td>\n",
       "      <td>0</td>\n",
       "      <td>0</td>\n",
       "      <td>0</td>\n",
       "      <td>0</td>\n",
       "      <td>0</td>\n",
       "      <td>0</td>\n",
       "    </tr>\n",
       "    <tr>\n",
       "      <td>1</td>\n",
       "      <td>0</td>\n",
       "      <td>[no, ah]</td>\n",
       "      <td>0</td>\n",
       "      <td>0</td>\n",
       "      <td>0</td>\n",
       "      <td>0</td>\n",
       "      <td>0</td>\n",
       "      <td>0</td>\n",
       "      <td>0</td>\n",
       "      <td>0</td>\n",
       "      <td>...</td>\n",
       "      <td>0</td>\n",
       "      <td>0</td>\n",
       "      <td>0</td>\n",
       "      <td>0</td>\n",
       "      <td>0</td>\n",
       "      <td>0</td>\n",
       "      <td>0</td>\n",
       "      <td>0</td>\n",
       "      <td>0</td>\n",
       "      <td>0</td>\n",
       "    </tr>\n",
       "    <tr>\n",
       "      <td>2</td>\n",
       "      <td>0</td>\n",
       "      <td>[wi, am]</td>\n",
       "      <td>0</td>\n",
       "      <td>0</td>\n",
       "      <td>0</td>\n",
       "      <td>0</td>\n",
       "      <td>0</td>\n",
       "      <td>0</td>\n",
       "      <td>0</td>\n",
       "      <td>0</td>\n",
       "      <td>...</td>\n",
       "      <td>0</td>\n",
       "      <td>0</td>\n",
       "      <td>0</td>\n",
       "      <td>0</td>\n",
       "      <td>0</td>\n",
       "      <td>0</td>\n",
       "      <td>0</td>\n",
       "      <td>0</td>\n",
       "      <td>0</td>\n",
       "      <td>0</td>\n",
       "    </tr>\n",
       "    <tr>\n",
       "      <td>3</td>\n",
       "      <td>0</td>\n",
       "      <td>[ja, es]</td>\n",
       "      <td>0</td>\n",
       "      <td>0</td>\n",
       "      <td>0</td>\n",
       "      <td>0</td>\n",
       "      <td>0</td>\n",
       "      <td>0</td>\n",
       "      <td>0</td>\n",
       "      <td>0</td>\n",
       "      <td>...</td>\n",
       "      <td>0</td>\n",
       "      <td>0</td>\n",
       "      <td>0</td>\n",
       "      <td>0</td>\n",
       "      <td>0</td>\n",
       "      <td>0</td>\n",
       "      <td>0</td>\n",
       "      <td>0</td>\n",
       "      <td>0</td>\n",
       "      <td>0</td>\n",
       "    </tr>\n",
       "    <tr>\n",
       "      <td>4</td>\n",
       "      <td>0</td>\n",
       "      <td>[ol, er]</td>\n",
       "      <td>0</td>\n",
       "      <td>0</td>\n",
       "      <td>0</td>\n",
       "      <td>0</td>\n",
       "      <td>0</td>\n",
       "      <td>0</td>\n",
       "      <td>0</td>\n",
       "      <td>0</td>\n",
       "      <td>...</td>\n",
       "      <td>0</td>\n",
       "      <td>0</td>\n",
       "      <td>0</td>\n",
       "      <td>0</td>\n",
       "      <td>0</td>\n",
       "      <td>0</td>\n",
       "      <td>0</td>\n",
       "      <td>0</td>\n",
       "      <td>0</td>\n",
       "      <td>0</td>\n",
       "    </tr>\n",
       "  </tbody>\n",
       "</table>\n",
       "<p>5 rows × 245 columns</p>\n",
       "</div>"
      ],
      "text/plain": [
       "   1      text      li  a  aa  ab  ac  ad  ae  ...  yl  yn  ys  y   za  ze  \\\n",
       "0  0  [li, am]  0    0  0   0   0   0   0   0  ...   0   0   0   0   0   0   \n",
       "1  0  [no, ah]  0    0  0   0   0   0   0   0  ...   0   0   0   0   0   0   \n",
       "2  0  [wi, am]  0    0  0   0   0   0   0   0  ...   0   0   0   0   0   0   \n",
       "3  0  [ja, es]  0    0  0   0   0   0   0   0  ...   0   0   0   0   0   0   \n",
       "4  0  [ol, er]  0    0  0   0   0   0   0   0  ...   0   0   0   0   0   0   \n",
       "\n",
       "   zi  zo  zu  ë  \n",
       "0   0   0   0  0  \n",
       "1   0   0   0  0  \n",
       "2   0   0   0  0  \n",
       "3   0   0   0  0  \n",
       "4   0   0   0  0  \n",
       "\n",
       "[5 rows x 245 columns]"
      ]
     },
     "execution_count": 36,
     "metadata": {},
     "output_type": "execute_result"
    }
   ],
   "source": [
    "df.head()"
   ]
  },
  {
   "cell_type": "code",
   "execution_count": 37,
   "metadata": {},
   "outputs": [],
   "source": [
    "import numpy as np\n",
    "for i,l in enumerate(df['text']):\n",
    "    for j,n in enumerate(l):\n",
    "        z = df.columns == n\n",
    "        z = np.where(z)[0]\n",
    "        z = int(z)\n",
    "        df.iloc[i,z] = j+1\n"
   ]
  },
  {
   "cell_type": "code",
   "execution_count": 38,
   "metadata": {},
   "outputs": [
    {
     "data": {
      "text/html": [
       "<div>\n",
       "<style scoped>\n",
       "    .dataframe tbody tr th:only-of-type {\n",
       "        vertical-align: middle;\n",
       "    }\n",
       "\n",
       "    .dataframe tbody tr th {\n",
       "        vertical-align: top;\n",
       "    }\n",
       "\n",
       "    .dataframe thead th {\n",
       "        text-align: right;\n",
       "    }\n",
       "</style>\n",
       "<table border=\"1\" class=\"dataframe\">\n",
       "  <thead>\n",
       "    <tr style=\"text-align: right;\">\n",
       "      <th></th>\n",
       "      <th>1</th>\n",
       "      <th>text</th>\n",
       "      <th></th>\n",
       "      <th>li</th>\n",
       "      <th>a</th>\n",
       "      <th>aa</th>\n",
       "      <th>ab</th>\n",
       "      <th>ac</th>\n",
       "      <th>ad</th>\n",
       "      <th>ae</th>\n",
       "      <th>...</th>\n",
       "      <th>yl</th>\n",
       "      <th>yn</th>\n",
       "      <th>ys</th>\n",
       "      <th>y</th>\n",
       "      <th>za</th>\n",
       "      <th>ze</th>\n",
       "      <th>zi</th>\n",
       "      <th>zo</th>\n",
       "      <th>zu</th>\n",
       "      <th>ë</th>\n",
       "    </tr>\n",
       "  </thead>\n",
       "  <tbody>\n",
       "    <tr>\n",
       "      <td>0</td>\n",
       "      <td>0</td>\n",
       "      <td>[li, am]</td>\n",
       "      <td>0</td>\n",
       "      <td>0</td>\n",
       "      <td>0</td>\n",
       "      <td>0</td>\n",
       "      <td>0</td>\n",
       "      <td>0</td>\n",
       "      <td>0</td>\n",
       "      <td>0</td>\n",
       "      <td>...</td>\n",
       "      <td>0</td>\n",
       "      <td>0</td>\n",
       "      <td>0</td>\n",
       "      <td>0</td>\n",
       "      <td>0</td>\n",
       "      <td>0</td>\n",
       "      <td>0</td>\n",
       "      <td>0</td>\n",
       "      <td>0</td>\n",
       "      <td>0</td>\n",
       "    </tr>\n",
       "    <tr>\n",
       "      <td>1</td>\n",
       "      <td>0</td>\n",
       "      <td>[no, ah]</td>\n",
       "      <td>0</td>\n",
       "      <td>0</td>\n",
       "      <td>0</td>\n",
       "      <td>0</td>\n",
       "      <td>0</td>\n",
       "      <td>0</td>\n",
       "      <td>0</td>\n",
       "      <td>0</td>\n",
       "      <td>...</td>\n",
       "      <td>0</td>\n",
       "      <td>0</td>\n",
       "      <td>0</td>\n",
       "      <td>0</td>\n",
       "      <td>0</td>\n",
       "      <td>0</td>\n",
       "      <td>0</td>\n",
       "      <td>0</td>\n",
       "      <td>0</td>\n",
       "      <td>0</td>\n",
       "    </tr>\n",
       "    <tr>\n",
       "      <td>2</td>\n",
       "      <td>0</td>\n",
       "      <td>[wi, am]</td>\n",
       "      <td>0</td>\n",
       "      <td>0</td>\n",
       "      <td>0</td>\n",
       "      <td>0</td>\n",
       "      <td>0</td>\n",
       "      <td>0</td>\n",
       "      <td>0</td>\n",
       "      <td>0</td>\n",
       "      <td>...</td>\n",
       "      <td>0</td>\n",
       "      <td>0</td>\n",
       "      <td>0</td>\n",
       "      <td>0</td>\n",
       "      <td>0</td>\n",
       "      <td>0</td>\n",
       "      <td>0</td>\n",
       "      <td>0</td>\n",
       "      <td>0</td>\n",
       "      <td>0</td>\n",
       "    </tr>\n",
       "    <tr>\n",
       "      <td>3</td>\n",
       "      <td>0</td>\n",
       "      <td>[ja, es]</td>\n",
       "      <td>0</td>\n",
       "      <td>0</td>\n",
       "      <td>0</td>\n",
       "      <td>0</td>\n",
       "      <td>0</td>\n",
       "      <td>0</td>\n",
       "      <td>0</td>\n",
       "      <td>0</td>\n",
       "      <td>...</td>\n",
       "      <td>0</td>\n",
       "      <td>0</td>\n",
       "      <td>0</td>\n",
       "      <td>0</td>\n",
       "      <td>0</td>\n",
       "      <td>0</td>\n",
       "      <td>0</td>\n",
       "      <td>0</td>\n",
       "      <td>0</td>\n",
       "      <td>0</td>\n",
       "    </tr>\n",
       "    <tr>\n",
       "      <td>4</td>\n",
       "      <td>0</td>\n",
       "      <td>[ol, er]</td>\n",
       "      <td>0</td>\n",
       "      <td>0</td>\n",
       "      <td>0</td>\n",
       "      <td>0</td>\n",
       "      <td>0</td>\n",
       "      <td>0</td>\n",
       "      <td>0</td>\n",
       "      <td>0</td>\n",
       "      <td>...</td>\n",
       "      <td>0</td>\n",
       "      <td>0</td>\n",
       "      <td>0</td>\n",
       "      <td>0</td>\n",
       "      <td>0</td>\n",
       "      <td>0</td>\n",
       "      <td>0</td>\n",
       "      <td>0</td>\n",
       "      <td>0</td>\n",
       "      <td>0</td>\n",
       "    </tr>\n",
       "    <tr>\n",
       "      <td>...</td>\n",
       "      <td>...</td>\n",
       "      <td>...</td>\n",
       "      <td>...</td>\n",
       "      <td>...</td>\n",
       "      <td>...</td>\n",
       "      <td>...</td>\n",
       "      <td>...</td>\n",
       "      <td>...</td>\n",
       "      <td>...</td>\n",
       "      <td>...</td>\n",
       "      <td>...</td>\n",
       "      <td>...</td>\n",
       "      <td>...</td>\n",
       "      <td>...</td>\n",
       "      <td>...</td>\n",
       "      <td>...</td>\n",
       "      <td>...</td>\n",
       "      <td>...</td>\n",
       "      <td>...</td>\n",
       "      <td>...</td>\n",
       "      <td>...</td>\n",
       "    </tr>\n",
       "    <tr>\n",
       "      <td>239</td>\n",
       "      <td>0</td>\n",
       "      <td>[om, ar]</td>\n",
       "      <td>0</td>\n",
       "      <td>0</td>\n",
       "      <td>0</td>\n",
       "      <td>0</td>\n",
       "      <td>0</td>\n",
       "      <td>0</td>\n",
       "      <td>0</td>\n",
       "      <td>0</td>\n",
       "      <td>...</td>\n",
       "      <td>0</td>\n",
       "      <td>0</td>\n",
       "      <td>0</td>\n",
       "      <td>0</td>\n",
       "      <td>0</td>\n",
       "      <td>0</td>\n",
       "      <td>0</td>\n",
       "      <td>0</td>\n",
       "      <td>0</td>\n",
       "      <td>0</td>\n",
       "    </tr>\n",
       "    <tr>\n",
       "      <td>240</td>\n",
       "      <td>0</td>\n",
       "      <td>[is, el]</td>\n",
       "      <td>0</td>\n",
       "      <td>0</td>\n",
       "      <td>0</td>\n",
       "      <td>0</td>\n",
       "      <td>0</td>\n",
       "      <td>0</td>\n",
       "      <td>0</td>\n",
       "      <td>0</td>\n",
       "      <td>...</td>\n",
       "      <td>0</td>\n",
       "      <td>0</td>\n",
       "      <td>0</td>\n",
       "      <td>0</td>\n",
       "      <td>0</td>\n",
       "      <td>0</td>\n",
       "      <td>0</td>\n",
       "      <td>0</td>\n",
       "      <td>0</td>\n",
       "      <td>0</td>\n",
       "    </tr>\n",
       "    <tr>\n",
       "      <td>241</td>\n",
       "      <td>0</td>\n",
       "      <td>[ai, an]</td>\n",
       "      <td>0</td>\n",
       "      <td>0</td>\n",
       "      <td>0</td>\n",
       "      <td>0</td>\n",
       "      <td>0</td>\n",
       "      <td>0</td>\n",
       "      <td>0</td>\n",
       "      <td>0</td>\n",
       "      <td>...</td>\n",
       "      <td>0</td>\n",
       "      <td>0</td>\n",
       "      <td>0</td>\n",
       "      <td>0</td>\n",
       "      <td>0</td>\n",
       "      <td>0</td>\n",
       "      <td>0</td>\n",
       "      <td>0</td>\n",
       "      <td>0</td>\n",
       "      <td>0</td>\n",
       "    </tr>\n",
       "    <tr>\n",
       "      <td>242</td>\n",
       "      <td>0</td>\n",
       "      <td>[th, eo]</td>\n",
       "      <td>0</td>\n",
       "      <td>0</td>\n",
       "      <td>0</td>\n",
       "      <td>0</td>\n",
       "      <td>0</td>\n",
       "      <td>0</td>\n",
       "      <td>0</td>\n",
       "      <td>0</td>\n",
       "      <td>...</td>\n",
       "      <td>0</td>\n",
       "      <td>0</td>\n",
       "      <td>0</td>\n",
       "      <td>0</td>\n",
       "      <td>0</td>\n",
       "      <td>0</td>\n",
       "      <td>0</td>\n",
       "      <td>0</td>\n",
       "      <td>0</td>\n",
       "      <td>0</td>\n",
       "    </tr>\n",
       "    <tr>\n",
       "      <td>243</td>\n",
       "      <td>0</td>\n",
       "      <td>[ja, er]</td>\n",
       "      <td>0</td>\n",
       "      <td>0</td>\n",
       "      <td>0</td>\n",
       "      <td>0</td>\n",
       "      <td>0</td>\n",
       "      <td>0</td>\n",
       "      <td>0</td>\n",
       "      <td>0</td>\n",
       "      <td>...</td>\n",
       "      <td>0</td>\n",
       "      <td>0</td>\n",
       "      <td>0</td>\n",
       "      <td>0</td>\n",
       "      <td>0</td>\n",
       "      <td>0</td>\n",
       "      <td>0</td>\n",
       "      <td>0</td>\n",
       "      <td>0</td>\n",
       "      <td>0</td>\n",
       "    </tr>\n",
       "  </tbody>\n",
       "</table>\n",
       "<p>244 rows × 245 columns</p>\n",
       "</div>"
      ],
      "text/plain": [
       "     1      text      li  a  aa  ab  ac  ad  ae  ...  yl  yn  ys  y   za  ze  \\\n",
       "0    0  [li, am]  0    0  0   0   0   0   0   0  ...   0   0   0   0   0   0   \n",
       "1    0  [no, ah]  0    0  0   0   0   0   0   0  ...   0   0   0   0   0   0   \n",
       "2    0  [wi, am]  0    0  0   0   0   0   0   0  ...   0   0   0   0   0   0   \n",
       "3    0  [ja, es]  0    0  0   0   0   0   0   0  ...   0   0   0   0   0   0   \n",
       "4    0  [ol, er]  0    0  0   0   0   0   0   0  ...   0   0   0   0   0   0   \n",
       "..  ..       ... ..  ... ..  ..  ..  ..  ..  ..  ...  ..  ..  ..  ..  ..  ..   \n",
       "239  0  [om, ar]  0    0  0   0   0   0   0   0  ...   0   0   0   0   0   0   \n",
       "240  0  [is, el]  0    0  0   0   0   0   0   0  ...   0   0   0   0   0   0   \n",
       "241  0  [ai, an]  0    0  0   0   0   0   0   0  ...   0   0   0   0   0   0   \n",
       "242  0  [th, eo]  0    0  0   0   0   0   0   0  ...   0   0   0   0   0   0   \n",
       "243  0  [ja, er]  0    0  0   0   0   0   0   0  ...   0   0   0   0   0   0   \n",
       "\n",
       "     zi  zo  zu  ë  \n",
       "0     0   0   0  0  \n",
       "1     0   0   0  0  \n",
       "2     0   0   0  0  \n",
       "3     0   0   0  0  \n",
       "4     0   0   0  0  \n",
       "..   ..  ..  .. ..  \n",
       "239   0   0   0  0  \n",
       "240   0   0   0  0  \n",
       "241   0   0   0  0  \n",
       "242   0   0   0  0  \n",
       "243   0   0   0  0  \n",
       "\n",
       "[244 rows x 245 columns]"
      ]
     },
     "execution_count": 38,
     "metadata": {},
     "output_type": "execute_result"
    }
   ],
   "source": [
    "df.head(244)"
   ]
  },
  {
   "cell_type": "code",
   "execution_count": 39,
   "metadata": {},
   "outputs": [],
   "source": [
    "df.drop('text',axis=1,inplace=True)"
   ]
  },
  {
   "cell_type": "code",
   "execution_count": 40,
   "metadata": {},
   "outputs": [],
   "source": [
    "x = df.drop(1,axis=1,inplace=False)\n",
    "y = df.iloc[:,0]"
   ]
  },
  {
   "cell_type": "code",
   "execution_count": 41,
   "metadata": {},
   "outputs": [
    {
     "data": {
      "text/plain": [
       "0       0\n",
       "1       0\n",
       "2       0\n",
       "3       0\n",
       "4       0\n",
       "       ..\n",
       "1001    1\n",
       "1002    1\n",
       "1003    1\n",
       "1004    1\n",
       "1005    1\n",
       "Name: 1, Length: 1006, dtype: int64"
      ]
     },
     "execution_count": 41,
     "metadata": {},
     "output_type": "execute_result"
    }
   ],
   "source": [
    "y"
   ]
  },
  {
   "cell_type": "code",
   "execution_count": 24,
   "metadata": {},
   "outputs": [],
   "source": [
    "from sklearn.model_selection import train_test_split\n",
    "xtrain,xtest,ytrain,ytest = train_test_split(x,y,test_size=0.2,random_state=20)\n"
   ]
  },
  {
   "cell_type": "code",
   "execution_count": 193,
   "metadata": {},
   "outputs": [],
   "source": [
    "\n",
    "from sklearn.ensemble import GradientBoostingClassifier\n",
    "from sklearn.naive_bayes import MultinomialNB\n",
    "gr = GradientBoostingClassifier(n_estimators=550,max_depth=20)\n",
    "ml = MultinomialNB(alpha=1)\n",
    "modelM = ml.fit(xtrain,ytrain)\n",
    "model = gr.fit(xtrain,ytrain)\n",
    "pred = model.predict(xtrain)\n",
    "predM = modelM.predict(xtrain)"
   ]
  },
  {
   "cell_type": "code",
   "execution_count": 194,
   "metadata": {},
   "outputs": [],
   "source": [
    "ytrain.index = range(len(ytrain))\n",
    "from sklearn.metrics import precision_recall_fscore_support\n",
    "from sklearn.metrics import confusion_matrix\n",
    "count = 0\n",
    "countM = 0\n",
    "for i in range(len(ytrain)):\n",
    "    if pred[i] == ytrain[i]:\n",
    "        acc = count=count+1 \n",
    "    if predM[i] == ytrain[i]:\n",
    "        accM = countM=countM+1\n",
    "acc = acc/len(ytrain)\n",
    "accM = accM/len(ytrain)\n",
    "prec,rec,fscore,s= precision_recall_fscore_support(ytrain,pred, average='macro')\n",
    "precM,recM,fscoreM,s= precision_recall_fscore_support(ytrain,predM, average='macro')\n",
    "\n"
   ]
  },
  {
   "cell_type": "code",
   "execution_count": 195,
   "metadata": {
    "scrolled": true
   },
   "outputs": [
    {
     "name": "stdout",
     "output_type": "stream",
     "text": [
      "Accuracy:0.9763681592039801 \n",
      "Precision Score:0.9762349882382073 \n",
      "Recall:0.9765447393687863 \n",
      "fscore:0.9763520260071985\n",
      "Accuracy:0.8395522388059702 \n",
      "Precision Score:0.8428449316170554 \n",
      "Recall:0.8378945086257628 \n",
      "fscore:0.8385610019192244\n"
     ]
    }
   ],
   "source": [
    "print(\"Accuracy:{} \\nPrecision Score:{} \\nRecall:{} \\nfscore:{}\".format(acc,prec,rec,fscore))\n",
    "print(\"Accuracy:{} \\nPrecision Score:{} \\nRecall:{} \\nfscore:{}\".format(accM,precM,recM,fscoreM))\n"
   ]
  },
  {
   "cell_type": "code",
   "execution_count": 196,
   "metadata": {},
   "outputs": [],
   "source": [
    "predt = model.predict(xtest)\n",
    "predtM = modelM.predict(xtest)\n",
    "ytest.index = range(len(ytest))\n",
    "\n",
    "from sklearn.metrics import average_precision_score\n",
    "count = 0\n",
    "countM = 0\n",
    "for i in range(len(ytest)):\n",
    "    if predt[i] == ytest[i]:\n",
    "        acc = count=count+1 \n",
    "    if predtM[i] == ytest[i]:\n",
    "        accM = countM=countM+1\n",
    "accM = accM/len(ytest)\n",
    "acc = acc/len(ytest)\n",
    "precM,recM,fscoreM,s= precision_recall_fscore_support(ytest,predtM,average='macro')\n",
    "prec,rec,fscore,s= precision_recall_fscore_support(ytest,predt,average='macro')\n"
   ]
  },
  {
   "cell_type": "code",
   "execution_count": 197,
   "metadata": {
    "scrolled": true
   },
   "outputs": [
    {
     "name": "stdout",
     "output_type": "stream",
     "text": [
      "Accuracy:0.7821782178217822 \n",
      "Precision Score:0.7823225675812493 \n",
      "Recall:0.7760617760617761 \n",
      "fscore:0.7468925421010424\n",
      "Accuracy:0.7524752475247525 \n",
      "Precision Score:0.752576267727783 \n",
      "Recall:0.745074745074745 \n",
      "fscore:0.7468925421010424\n"
     ]
    }
   ],
   "source": [
    "print(\"Accuracy:{} \\nPrecision Score:{} \\nRecall:{} \\nfscore:{}\".format(accM,precM,recM,fscore))\n",
    "print(\"Accuracy:{} \\nPrecision Score:{} \\nRecall:{} \\nfscore:{}\".format(acc,prec,rec,fscore))"
   ]
  },
  {
   "cell_type": "code",
   "execution_count": 52,
   "metadata": {},
   "outputs": [],
   "source": [
    "def prediction(name):\n",
    "    data = pd.read_csv('C:/Users/user/Desktop/names.csv',encoding='unicode_escape',header=None)\n",
    "    for i in range(len(data)):\n",
    "        if i < 526:\n",
    "            data[1][i] = 'M'\n",
    "        else:\n",
    "            data[1][i] = 'F'\n",
    "    data.drop(2,axis=1,inplace=True)\n",
    "    data[0][565] = 'saravanan'\n",
    "    data[1][565] = 0\n",
    "    b = []\n",
    "    for i,nm in enumerate(data[0]):\n",
    "        if i < 525:\n",
    "            w = nm[3:]\n",
    "            if i > 8:\n",
    "                w = nm[4:]\n",
    "            if i > 98:\n",
    "                w = nm[5:]\n",
    "            b.append(w)\n",
    "    data[0][:525] = b\n",
    "    nr = {0:name,1:None}\n",
    "    data = data.append(nr,ignore_index=True)\n",
    "    df = data\n",
    "    def rmst(text):\n",
    "        b=[]\n",
    "        for i in text:\n",
    "            count=0\n",
    "            w=[]\n",
    "            wd = ''\n",
    "            wr = ''\n",
    "            ws = len(i)\n",
    "            for j in i:\n",
    "                j = j.lower()\n",
    "                count = count + 1\n",
    "                if count < 3:\n",
    "                    wd = wd + j\n",
    "                    continue\n",
    "                if count > ws-3:\n",
    "                    wr = wr + j\n",
    "                    wr = wr[:2]\n",
    "                    continue\n",
    "            w.append(wd)    \n",
    "            w.append(wr)\n",
    "            b.append(w)\n",
    "        return b\n",
    "    df['text'] = rmst(df[0])\n",
    "    dic = {'M':0,'F':1}\n",
    "    df[1] = df[1].map(dic)\n",
    "    df.drop(0,axis=1,inplace=True)\n",
    "    import re \n",
    "    comment_words = ' '\n",
    "    for i in df['text']: \n",
    "        for words in i:\n",
    "            comment_words = comment_words + words + ',' \n",
    "    w = re.split(',',comment_words)\n",
    "    import numpy as np\n",
    "    w = np.array(w)\n",
    "    z = np.unique(w)\n",
    "    z = list(z)\n",
    "    g = len(z)\n",
    "    for i in range(len(z)):\n",
    "        df[z[i]] = 0\n",
    "    import numpy as np\n",
    "    for i,l in enumerate(df['text']):\n",
    "        for j,n in enumerate(l):\n",
    "            z = df.columns == n\n",
    "            z = np.where(z)[0]\n",
    "            z = int(z)\n",
    "            df.iloc[i,z] = j+1\n",
    "    df.drop('text',axis=1,inplace=True)\n",
    "    z = df.iloc[1006,:]\n",
    "    df.drop(1006,axis=0,inplace=True)\n",
    "    while len(z) > 243 :\n",
    "        z.drop(z.index[0],inplace=True)\n",
    "    z = np.array(z)\n",
    "    z = z[0:462]\n",
    "    x = df.drop(1,axis=1,inplace=False)\n",
    "    df[1].fillna(1,inplace=True)\n",
    "    y = df.iloc[:,0]\n",
    "    j=[]\n",
    "    for i in y:\n",
    "        j.append(int(i))\n",
    "    y = pd.Series(j)\n",
    "    from sklearn.model_selection import train_test_split\n",
    "    xtrain,xtest,ytrain,ytest = train_test_split(x,y,test_size=0.2,random_state=20)\n",
    "    from sklearn.ensemble import GradientBoostingClassifier\n",
    "    from sklearn.naive_bayes import MultinomialNB\n",
    "    gr = GradientBoostingClassifier(n_estimators=550,max_depth=20)\n",
    "    ml = MultinomialNB(alpha=1)\n",
    "    modelM = ml.fit(xtrain,ytrain)\n",
    "    model = gr.fit(xtrain,ytrain)\n",
    "    pred = model.predict(xtrain)\n",
    "    predM = modelM.predict(xtrain)\n",
    "    predt = modelM.predict([z])\n",
    "    if predt == 0:\n",
    "        print('Male')\n",
    "    else:\n",
    "        print('Female')\n",
    "    \n",
    "\n",
    "    \n",
    "        \n",
    "\n",
    "\n",
    "\n"
   ]
  },
  {
   "cell_type": "code",
   "execution_count": 53,
   "metadata": {
    "scrolled": true
   },
   "outputs": [
    {
     "name": "stderr",
     "output_type": "stream",
     "text": [
      "C:\\Users\\user\\Anaconda3\\lib\\site-packages\\ipykernel_launcher.py:5: SettingWithCopyWarning: \n",
      "A value is trying to be set on a copy of a slice from a DataFrame\n",
      "\n",
      "See the caveats in the documentation: http://pandas.pydata.org/pandas-docs/stable/user_guide/indexing.html#returning-a-view-versus-a-copy\n",
      "  \"\"\"\n",
      "C:\\Users\\user\\Anaconda3\\lib\\site-packages\\pandas\\core\\indexing.py:205: SettingWithCopyWarning: \n",
      "A value is trying to be set on a copy of a slice from a DataFrame\n",
      "\n",
      "See the caveats in the documentation: http://pandas.pydata.org/pandas-docs/stable/user_guide/indexing.html#returning-a-view-versus-a-copy\n",
      "  self._setitem_with_indexer(indexer, value)\n",
      "C:\\Users\\user\\Anaconda3\\lib\\site-packages\\ipykernel_launcher.py:7: SettingWithCopyWarning: \n",
      "A value is trying to be set on a copy of a slice from a DataFrame\n",
      "\n",
      "See the caveats in the documentation: http://pandas.pydata.org/pandas-docs/stable/user_guide/indexing.html#returning-a-view-versus-a-copy\n",
      "  import sys\n",
      "C:\\Users\\user\\Anaconda3\\lib\\site-packages\\pandas\\core\\generic.py:3917: SettingWithCopyWarning: \n",
      "A value is trying to be set on a copy of a slice from a DataFrame\n",
      "\n",
      "See the caveats in the documentation: http://pandas.pydata.org/pandas-docs/stable/user_guide/indexing.html#returning-a-view-versus-a-copy\n",
      "  self._update_inplace(obj)\n"
     ]
    },
    {
     "name": "stdout",
     "output_type": "stream",
     "text": [
      "Male\n"
     ]
    }
   ],
   "source": [
    "import pandas as pd\n",
    "name = 'robert '\n",
    "prediction(name)"
   ]
  },
  {
   "cell_type": "code",
   "execution_count": 103,
   "metadata": {},
   "outputs": [],
   "source": [
    "z = pd.Series([1,2,4])"
   ]
  },
  {
   "cell_type": "code",
   "execution_count": 104,
   "metadata": {},
   "outputs": [],
   "source": [
    "z.drop(1,inplace=True)"
   ]
  },
  {
   "cell_type": "code",
   "execution_count": 106,
   "metadata": {},
   "outputs": [
    {
     "data": {
      "text/plain": [
       "2"
      ]
     },
     "execution_count": 106,
     "metadata": {},
     "output_type": "execute_result"
    }
   ],
   "source": [
    "len(z)"
   ]
  },
  {
   "cell_type": "code",
   "execution_count": 127,
   "metadata": {},
   "outputs": [
    {
     "data": {
      "text/plain": [
       "2"
      ]
     },
     "execution_count": 127,
     "metadata": {},
     "output_type": "execute_result"
    }
   ],
   "source": [
    "z.index[1]"
   ]
  },
  {
   "cell_type": "code",
   "execution_count": 138,
   "metadata": {},
   "outputs": [
    {
     "name": "stdout",
     "output_type": "stream",
     "text": [
      "MultinomialNB(alpha=1.0, class_prior=None, fit_prior=True)\n"
     ]
    }
   ],
   "source": [
    "print(ml)"
   ]
  },
  {
   "cell_type": "code",
   "execution_count": 55,
   "metadata": {},
   "outputs": [
    {
     "data": {
      "text/plain": [
       "(1006, 244)"
      ]
     },
     "execution_count": 55,
     "metadata": {},
     "output_type": "execute_result"
    }
   ],
   "source": [
    "df.shape"
   ]
  },
  {
   "cell_type": "code",
   "execution_count": 61,
   "metadata": {},
   "outputs": [
    {
     "ename": "KeyError",
     "evalue": "'[1001] not found in axis'",
     "output_type": "error",
     "traceback": [
      "\u001b[1;31m---------------------------------------------------------------------------\u001b[0m",
      "\u001b[1;31mKeyError\u001b[0m                                  Traceback (most recent call last)",
      "\u001b[1;32m<ipython-input-61-71a07425e3f8>\u001b[0m in \u001b[0;36m<module>\u001b[1;34m\u001b[0m\n\u001b[0;32m      3\u001b[0m \u001b[1;32mfor\u001b[0m \u001b[0mi\u001b[0m \u001b[1;32min\u001b[0m \u001b[0mrange\u001b[0m\u001b[1;33m(\u001b[0m\u001b[0mv\u001b[0m\u001b[1;33m+\u001b[0m\u001b[1;36m1\u001b[0m\u001b[1;33m)\u001b[0m\u001b[1;33m:\u001b[0m\u001b[1;33m\u001b[0m\u001b[1;33m\u001b[0m\u001b[0m\n\u001b[0;32m      4\u001b[0m     \u001b[0mind\u001b[0m \u001b[1;33m=\u001b[0m \u001b[0mind\u001b[0m \u001b[1;33m+\u001b[0m \u001b[1;36m1\u001b[0m\u001b[1;33m\u001b[0m\u001b[1;33m\u001b[0m\u001b[0m\n\u001b[1;32m----> 5\u001b[1;33m     \u001b[0mdf\u001b[0m\u001b[1;33m.\u001b[0m\u001b[0mdrop\u001b[0m\u001b[1;33m(\u001b[0m\u001b[0mind\u001b[0m\u001b[1;33m,\u001b[0m\u001b[0minplace\u001b[0m\u001b[1;33m=\u001b[0m\u001b[1;32mTrue\u001b[0m\u001b[1;33m,\u001b[0m\u001b[0maxis\u001b[0m\u001b[1;33m=\u001b[0m\u001b[1;36m0\u001b[0m\u001b[1;33m)\u001b[0m\u001b[1;33m\u001b[0m\u001b[1;33m\u001b[0m\u001b[0m\n\u001b[0m",
      "\u001b[1;32m~\\Anaconda3\\lib\\site-packages\\pandas\\core\\frame.py\u001b[0m in \u001b[0;36mdrop\u001b[1;34m(self, labels, axis, index, columns, level, inplace, errors)\u001b[0m\n\u001b[0;32m   4100\u001b[0m             \u001b[0mlevel\u001b[0m\u001b[1;33m=\u001b[0m\u001b[0mlevel\u001b[0m\u001b[1;33m,\u001b[0m\u001b[1;33m\u001b[0m\u001b[1;33m\u001b[0m\u001b[0m\n\u001b[0;32m   4101\u001b[0m             \u001b[0minplace\u001b[0m\u001b[1;33m=\u001b[0m\u001b[0minplace\u001b[0m\u001b[1;33m,\u001b[0m\u001b[1;33m\u001b[0m\u001b[1;33m\u001b[0m\u001b[0m\n\u001b[1;32m-> 4102\u001b[1;33m             \u001b[0merrors\u001b[0m\u001b[1;33m=\u001b[0m\u001b[0merrors\u001b[0m\u001b[1;33m,\u001b[0m\u001b[1;33m\u001b[0m\u001b[1;33m\u001b[0m\u001b[0m\n\u001b[0m\u001b[0;32m   4103\u001b[0m         )\n\u001b[0;32m   4104\u001b[0m \u001b[1;33m\u001b[0m\u001b[0m\n",
      "\u001b[1;32m~\\Anaconda3\\lib\\site-packages\\pandas\\core\\generic.py\u001b[0m in \u001b[0;36mdrop\u001b[1;34m(self, labels, axis, index, columns, level, inplace, errors)\u001b[0m\n\u001b[0;32m   3912\u001b[0m         \u001b[1;32mfor\u001b[0m \u001b[0maxis\u001b[0m\u001b[1;33m,\u001b[0m \u001b[0mlabels\u001b[0m \u001b[1;32min\u001b[0m \u001b[0maxes\u001b[0m\u001b[1;33m.\u001b[0m\u001b[0mitems\u001b[0m\u001b[1;33m(\u001b[0m\u001b[1;33m)\u001b[0m\u001b[1;33m:\u001b[0m\u001b[1;33m\u001b[0m\u001b[1;33m\u001b[0m\u001b[0m\n\u001b[0;32m   3913\u001b[0m             \u001b[1;32mif\u001b[0m \u001b[0mlabels\u001b[0m \u001b[1;32mis\u001b[0m \u001b[1;32mnot\u001b[0m \u001b[1;32mNone\u001b[0m\u001b[1;33m:\u001b[0m\u001b[1;33m\u001b[0m\u001b[1;33m\u001b[0m\u001b[0m\n\u001b[1;32m-> 3914\u001b[1;33m                 \u001b[0mobj\u001b[0m \u001b[1;33m=\u001b[0m \u001b[0mobj\u001b[0m\u001b[1;33m.\u001b[0m\u001b[0m_drop_axis\u001b[0m\u001b[1;33m(\u001b[0m\u001b[0mlabels\u001b[0m\u001b[1;33m,\u001b[0m \u001b[0maxis\u001b[0m\u001b[1;33m,\u001b[0m \u001b[0mlevel\u001b[0m\u001b[1;33m=\u001b[0m\u001b[0mlevel\u001b[0m\u001b[1;33m,\u001b[0m \u001b[0merrors\u001b[0m\u001b[1;33m=\u001b[0m\u001b[0merrors\u001b[0m\u001b[1;33m)\u001b[0m\u001b[1;33m\u001b[0m\u001b[1;33m\u001b[0m\u001b[0m\n\u001b[0m\u001b[0;32m   3915\u001b[0m \u001b[1;33m\u001b[0m\u001b[0m\n\u001b[0;32m   3916\u001b[0m         \u001b[1;32mif\u001b[0m \u001b[0minplace\u001b[0m\u001b[1;33m:\u001b[0m\u001b[1;33m\u001b[0m\u001b[1;33m\u001b[0m\u001b[0m\n",
      "\u001b[1;32m~\\Anaconda3\\lib\\site-packages\\pandas\\core\\generic.py\u001b[0m in \u001b[0;36m_drop_axis\u001b[1;34m(self, labels, axis, level, errors)\u001b[0m\n\u001b[0;32m   3944\u001b[0m                 \u001b[0mnew_axis\u001b[0m \u001b[1;33m=\u001b[0m \u001b[0maxis\u001b[0m\u001b[1;33m.\u001b[0m\u001b[0mdrop\u001b[0m\u001b[1;33m(\u001b[0m\u001b[0mlabels\u001b[0m\u001b[1;33m,\u001b[0m \u001b[0mlevel\u001b[0m\u001b[1;33m=\u001b[0m\u001b[0mlevel\u001b[0m\u001b[1;33m,\u001b[0m \u001b[0merrors\u001b[0m\u001b[1;33m=\u001b[0m\u001b[0merrors\u001b[0m\u001b[1;33m)\u001b[0m\u001b[1;33m\u001b[0m\u001b[1;33m\u001b[0m\u001b[0m\n\u001b[0;32m   3945\u001b[0m             \u001b[1;32melse\u001b[0m\u001b[1;33m:\u001b[0m\u001b[1;33m\u001b[0m\u001b[1;33m\u001b[0m\u001b[0m\n\u001b[1;32m-> 3946\u001b[1;33m                 \u001b[0mnew_axis\u001b[0m \u001b[1;33m=\u001b[0m \u001b[0maxis\u001b[0m\u001b[1;33m.\u001b[0m\u001b[0mdrop\u001b[0m\u001b[1;33m(\u001b[0m\u001b[0mlabels\u001b[0m\u001b[1;33m,\u001b[0m \u001b[0merrors\u001b[0m\u001b[1;33m=\u001b[0m\u001b[0merrors\u001b[0m\u001b[1;33m)\u001b[0m\u001b[1;33m\u001b[0m\u001b[1;33m\u001b[0m\u001b[0m\n\u001b[0m\u001b[0;32m   3947\u001b[0m             \u001b[0mresult\u001b[0m \u001b[1;33m=\u001b[0m \u001b[0mself\u001b[0m\u001b[1;33m.\u001b[0m\u001b[0mreindex\u001b[0m\u001b[1;33m(\u001b[0m\u001b[1;33m**\u001b[0m\u001b[1;33m{\u001b[0m\u001b[0maxis_name\u001b[0m\u001b[1;33m:\u001b[0m \u001b[0mnew_axis\u001b[0m\u001b[1;33m}\u001b[0m\u001b[1;33m)\u001b[0m\u001b[1;33m\u001b[0m\u001b[1;33m\u001b[0m\u001b[0m\n\u001b[0;32m   3948\u001b[0m \u001b[1;33m\u001b[0m\u001b[0m\n",
      "\u001b[1;32m~\\Anaconda3\\lib\\site-packages\\pandas\\core\\indexes\\base.py\u001b[0m in \u001b[0;36mdrop\u001b[1;34m(self, labels, errors)\u001b[0m\n\u001b[0;32m   5338\u001b[0m         \u001b[1;32mif\u001b[0m \u001b[0mmask\u001b[0m\u001b[1;33m.\u001b[0m\u001b[0many\u001b[0m\u001b[1;33m(\u001b[0m\u001b[1;33m)\u001b[0m\u001b[1;33m:\u001b[0m\u001b[1;33m\u001b[0m\u001b[1;33m\u001b[0m\u001b[0m\n\u001b[0;32m   5339\u001b[0m             \u001b[1;32mif\u001b[0m \u001b[0merrors\u001b[0m \u001b[1;33m!=\u001b[0m \u001b[1;34m\"ignore\"\u001b[0m\u001b[1;33m:\u001b[0m\u001b[1;33m\u001b[0m\u001b[1;33m\u001b[0m\u001b[0m\n\u001b[1;32m-> 5340\u001b[1;33m                 \u001b[1;32mraise\u001b[0m \u001b[0mKeyError\u001b[0m\u001b[1;33m(\u001b[0m\u001b[1;34m\"{} not found in axis\"\u001b[0m\u001b[1;33m.\u001b[0m\u001b[0mformat\u001b[0m\u001b[1;33m(\u001b[0m\u001b[0mlabels\u001b[0m\u001b[1;33m[\u001b[0m\u001b[0mmask\u001b[0m\u001b[1;33m]\u001b[0m\u001b[1;33m)\u001b[0m\u001b[1;33m)\u001b[0m\u001b[1;33m\u001b[0m\u001b[1;33m\u001b[0m\u001b[0m\n\u001b[0m\u001b[0;32m   5341\u001b[0m             \u001b[0mindexer\u001b[0m \u001b[1;33m=\u001b[0m \u001b[0mindexer\u001b[0m\u001b[1;33m[\u001b[0m\u001b[1;33m~\u001b[0m\u001b[0mmask\u001b[0m\u001b[1;33m]\u001b[0m\u001b[1;33m\u001b[0m\u001b[1;33m\u001b[0m\u001b[0m\n\u001b[0;32m   5342\u001b[0m         \u001b[1;32mreturn\u001b[0m \u001b[0mself\u001b[0m\u001b[1;33m.\u001b[0m\u001b[0mdelete\u001b[0m\u001b[1;33m(\u001b[0m\u001b[0mindexer\u001b[0m\u001b[1;33m)\u001b[0m\u001b[1;33m\u001b[0m\u001b[1;33m\u001b[0m\u001b[0m\n",
      "\u001b[1;31mKeyError\u001b[0m: '[1001] not found in axis'"
     ]
    }
   ],
   "source": [
    "ind = 1000\n",
    "v = len(df)-1000\n",
    "for i in range(v+1):\n",
    "    ind = ind + 1\n",
    "    df.drop(ind,inplace=True,axis=0)"
   ]
  },
  {
   "cell_type": "code",
   "execution_count": null,
   "metadata": {},
   "outputs": [],
   "source": []
  }
 ],
 "metadata": {
  "kernelspec": {
   "display_name": "Python 3",
   "language": "python",
   "name": "python3"
  },
  "language_info": {
   "codemirror_mode": {
    "name": "ipython",
    "version": 3
   },
   "file_extension": ".py",
   "mimetype": "text/x-python",
   "name": "python",
   "nbconvert_exporter": "python",
   "pygments_lexer": "ipython3",
   "version": "3.7.4"
  }
 },
 "nbformat": 4,
 "nbformat_minor": 2
}
